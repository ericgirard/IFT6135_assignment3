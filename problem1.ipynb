{
 "cells": [
  {
   "cell_type": "code",
   "execution_count": 25,
   "metadata": {},
   "outputs": [],
   "source": [
    "import torch\n",
    "import torch.nn as nn\n",
    "import torch.nn.functional as F\n",
    "import numpy as np\n",
    "from torch.autograd import Variable\n",
    "from samplers import *\n",
    "import matplotlib.pyplot as plt\n",
    "import torch.autograd as autograd"
   ]
  },
  {
   "cell_type": "code",
   "execution_count": 22,
   "metadata": {},
   "outputs": [],
   "source": [
    "#initialize samplers\n",
    "p_dist = distribution3()\n",
    "q_dist = distribution3()\n",
    "a_dist = uniform_1d()"
   ]
  },
  {
   "cell_type": "code",
   "execution_count": 18,
   "metadata": {},
   "outputs": [],
   "source": [
    "class MLP(nn.Module):\n",
    "   \n",
    "    def __init__(self):\n",
    "        \n",
    "        super(MLP, self).__init__()\n",
    "       \n",
    "        self.layers = nn.Sequential(\n",
    "            nn.Linear(1, 32),\n",
    "            nn.ReLU(),\n",
    "            nn.Linear(32, 32),\n",
    "            nn.ReLU(),\n",
    "            nn.Linear(32, 32),\n",
    "            nn.ReLU(),\n",
    "            nn.Linear(32, 1),\n",
    "            nn.Sigmoid()\n",
    "        )\n",
    "        \n",
    "    def forward(self, x):\n",
    "\n",
    "        x = x.view(x.size(0), -1)\n",
    "        x = self.layers(x)\n",
    "        return x\n",
    "    \n",
    "class MLP_wd(nn.Module):\n",
    "   \n",
    "    def __init__(self):\n",
    "        \n",
    "        super(MLP_wd, self).__init__()\n",
    "       \n",
    "        self.layers = nn.Sequential(\n",
    "            nn.Linear(1, 32),\n",
    "            nn.ReLU(),\n",
    "            nn.Linear(32, 32),\n",
    "            nn.ReLU(),\n",
    "            nn.Linear(32, 32),\n",
    "            nn.ReLU(),\n",
    "            nn.Linear(32, 1),\n",
    "        )\n",
    "        \n",
    "    def forward(self, x):\n",
    "\n",
    "        x = x.view(x.size(0), -1)\n",
    "        x = self.layers(x)\n",
    "        return x\n",
    "    \n",
    "class MLP_2d(nn.Module):\n",
    "   \n",
    "    def __init__(self):\n",
    "        \n",
    "        super(MLP_2d, self).__init__()\n",
    "       \n",
    "        self.layers = nn.Sequential(\n",
    "            nn.Linear(2, 32),\n",
    "            nn.ReLU(),\n",
    "            nn.Linear(32, 32),\n",
    "            nn.ReLU(),\n",
    "            nn.Linear(32, 32),\n",
    "            nn.ReLU(),\n",
    "            nn.Linear(32, 1),\n",
    "            nn.Sigmoid()\n",
    "        )\n",
    "        \n",
    "    def forward(self, x):\n",
    "\n",
    "        x = x.view(x.size(0), -1)\n",
    "        x = self.layers(x)\n",
    "        return x\n",
    "    \n",
    "class MLP_wd_2d(nn.Module):\n",
    "   \n",
    "    def __init__(self):\n",
    "        \n",
    "        super(MLP_wd_2d, self).__init__()\n",
    "       \n",
    "        self.layers = nn.Sequential(\n",
    "            nn.Linear(2, 32),\n",
    "            nn.ReLU(),\n",
    "            nn.Linear(32, 32),\n",
    "            nn.ReLU(),\n",
    "            nn.Linear(32, 32),\n",
    "            nn.ReLU(),\n",
    "            nn.Linear(32, 1),\n",
    "        )\n",
    "        \n",
    "    def forward(self, x):\n",
    "\n",
    "        x = x.view(x.size(0), -1)\n",
    "        x = self.layers(x)\n",
    "        return x\n",
    "    \n"
   ]
  },
  {
   "cell_type": "markdown",
   "metadata": {},
   "source": [
    "## Problem 1.1"
   ]
  },
  {
   "cell_type": "code",
   "execution_count": 6,
   "metadata": {},
   "outputs": [],
   "source": [
    "def loss_JS(D_x,D_y):\n",
    "    return np.log(2) + (1/2)*(D_x.log().mean()) + (1/2)*((1-D_y).log().mean())"
   ]
  },
  {
   "cell_type": "code",
   "execution_count": 7,
   "metadata": {},
   "outputs": [
    {
     "name": "stdout",
     "output_type": "stream",
     "text": [
      "epoch : 1, train loss : -0.4125\n",
      "epoch : 2, train loss : -0.6810\n",
      "epoch : 3, train loss : -0.6911\n",
      "epoch : 4, train loss : -0.6923\n",
      "epoch : 5, train loss : -0.6927\n",
      "epoch : 6, train loss : -0.6928\n",
      "epoch : 7, train loss : -0.6929\n",
      "epoch : 8, train loss : -0.6930\n",
      "epoch : 9, train loss : -0.6930\n",
      "epoch : 10, train loss : -0.6930\n",
      "epoch : 11, train loss : -0.6931\n",
      "epoch : 12, train loss : -0.6931\n",
      "epoch : 13, train loss : -0.6931\n",
      "epoch : 14, train loss : -0.6931\n",
      "epoch : 15, train loss : -0.6931\n"
     ]
    }
   ],
   "source": [
    "#PROBLEM 1.1\n",
    "device = torch.device(\"cuda:0\" if torch.cuda.is_available() else \"cpu\")\n",
    "\n",
    "model = MLP().double()\n",
    "model = model.to(device)\n",
    "\n",
    "# optimizer = torch.optim.SGD(model.parameters(), lr=0.001)\n",
    "optimizer = torch.optim.Adam(model.parameters(), lr=0.001)\n",
    "\n",
    "mean_train_losses = []\n",
    "epochs = 15\n",
    "num_minibatch = 100\n",
    "\n",
    "for epoch in range(epochs):\n",
    "    \n",
    "    model.train()\n",
    "    train_losses = []\n",
    "        \n",
    "    for i in range(num_minibatch):\n",
    "        \n",
    "        optimizer.zero_grad()\n",
    "        \n",
    "        #forward for x (normal 0 std 1)\n",
    "        x_outputs = model(torch.tensor(next(p_dist)).to(device))\n",
    "        #forward for y (normal 10 std 1)\n",
    "        y_outputs = model(torch.tensor(next(q_dist)+10).to(device))\n",
    "        \n",
    "        loss = -loss_JS(x_outputs, y_outputs)\n",
    "        \n",
    "        loss.backward()\n",
    "        optimizer.step()\n",
    "        \n",
    "        train_losses.append(loss.item())\n",
    "            \n",
    "    mean_train_losses.append(np.mean(train_losses))\n",
    "    \n",
    "    print('epoch : {}, train loss : {:.4f}'\\\n",
    "         .format(epoch+1, np.mean(train_losses)))"
   ]
  },
  {
   "cell_type": "code",
   "execution_count": 8,
   "metadata": {},
   "outputs": [
    {
     "name": "stdout",
     "output_type": "stream",
     "text": [
      "tensor(1.0000, device='cuda:0', dtype=torch.float64, grad_fn=<MeanBackward1>)\n",
      "tensor(4.0138e-05, device='cuda:0', dtype=torch.float64,\n",
      "       grad_fn=<MeanBackward1>)\n"
     ]
    }
   ],
   "source": [
    "#test\n",
    "x= torch.tensor(next(p_dist)).to(device)\n",
    "y= torch.tensor(next(q_dist)+10).to(device)\n",
    "\n",
    "model.eval()\n",
    "\n",
    "print(model.forward(x).mean())\n",
    "print(model.forward(y).mean())\n"
   ]
  },
  {
   "cell_type": "markdown",
   "metadata": {},
   "source": [
    "## Problem 1.2"
   ]
  },
  {
   "cell_type": "code",
   "execution_count": 9,
   "metadata": {},
   "outputs": [],
   "source": [
    "def loss_WD(D_x,D_y,grad_z,mylambda):\n",
    "    return D_x.mean() - D_y.mean() - (mylambda * ((torch.norm(grad_z)-1).pow(2).mean()))"
   ]
  },
  {
   "cell_type": "code",
   "execution_count": 38,
   "metadata": {},
   "outputs": [
    {
     "name": "stdout",
     "output_type": "stream",
     "text": [
      "epoch : 1, train loss : -0.2609\n",
      "epoch : 2, train loss : -0.4416\n",
      "epoch : 3, train loss : -0.4438\n",
      "epoch : 4, train loss : -0.4429\n",
      "epoch : 5, train loss : -0.4456\n",
      "epoch : 6, train loss : -0.4452\n",
      "epoch : 7, train loss : -0.4451\n",
      "epoch : 8, train loss : -0.4460\n",
      "epoch : 9, train loss : -0.4456\n",
      "epoch : 10, train loss : -0.4458\n",
      "epoch : 11, train loss : -0.4458\n",
      "epoch : 12, train loss : -0.4443\n",
      "epoch : 13, train loss : -0.4442\n",
      "epoch : 14, train loss : -0.4450\n",
      "epoch : 15, train loss : -0.4450\n"
     ]
    }
   ],
   "source": [
    "#PROBLEM 1.2\n",
    "device = torch.device(\"cuda:0\" if torch.cuda.is_available() else \"cpu\")\n",
    "\n",
    "model = MLP_wd().double()\n",
    "model = model.to(device)\n",
    "\n",
    "optimizer = torch.optim.Adam(model.parameters(), lr=0.001)\n",
    "\n",
    "mean_train_losses = []\n",
    "epochs = 15\n",
    "num_minibatch = 100\n",
    "\n",
    "for epoch in range(epochs):\n",
    "    \n",
    "    model.train()\n",
    "    train_losses = []\n",
    "        \n",
    "    for i in range(num_minibatch):\n",
    "        \n",
    "        optimizer.zero_grad()\n",
    "        x = torch.tensor(next(p_dist)).to(device)\n",
    "        y= torch.tensor(next(q_dist) + 10).to(device)\n",
    "        #forward for x (normal 0 std 1)\n",
    "        x_outputs = model(x)\n",
    "        #forward for y (normal 10 std 1)\n",
    "        y_outputs = model(y)\n",
    "        \n",
    "        a = torch.tensor(next(a_dist)).to(device)\n",
    "        z = Variable((a*x +((1-a)*y)),requires_grad=True)\n",
    "        z_outputs= model(z)\n",
    "        \n",
    "        fake = Variable(torch.Tensor(x.shape[0], 1).fill_(1.0), requires_grad=False).double().to(device)\n",
    "        # Get gradient w.r.t. interpolates\n",
    "        grad_z = autograd.grad(\n",
    "            outputs=z_outputs,\n",
    "            inputs=z,\n",
    "            grad_outputs=fake,\n",
    "            create_graph=True,\n",
    "            retain_graph=True,\n",
    "            only_inputs=True,\n",
    "        )[0]\n",
    "        grad_z = grad_z.view(grad_z.size(0), -1)\n",
    "        \n",
    "        loss = -loss_WD(x_outputs, y_outputs, grad_z,10)\n",
    "        loss.backward()\n",
    "        \n",
    "        optimizer.step()\n",
    "        \n",
    "        train_losses.append(loss.item())\n",
    "            \n",
    "    mean_train_losses.append(np.mean(train_losses))\n",
    "    \n",
    "    print('epoch : {}, train loss : {:.4f}'\\\n",
    "         .format(epoch+1, np.mean(train_losses)))"
   ]
  },
  {
   "cell_type": "code",
   "execution_count": 39,
   "metadata": {},
   "outputs": [
    {
     "name": "stdout",
     "output_type": "stream",
     "text": [
      "tensor(0.1096, device='cuda:0', dtype=torch.float64, grad_fn=<MeanBackward1>)\n",
      "tensor(-0.3377, device='cuda:0', dtype=torch.float64, grad_fn=<MeanBackward1>)\n"
     ]
    }
   ],
   "source": [
    "#test\n",
    "x= torch.tensor(next(p_dist)).to(device)\n",
    "y= torch.tensor(next(q_dist) + 10).to(device)\n",
    "\n",
    "model.eval()\n",
    "\n",
    "print(model.forward(x).mean())\n",
    "print(model.forward(y).mean())\n"
   ]
  },
  {
   "cell_type": "markdown",
   "metadata": {},
   "source": [
    "## Problem 1.3"
   ]
  },
  {
   "cell_type": "code",
   "execution_count": 67,
   "metadata": {},
   "outputs": [],
   "source": [
    "def get_JS(p_dist,q_dist):\n",
    "    \n",
    "    device = torch.device(\"cuda:0\" if torch.cuda.is_available() else \"cpu\")\n",
    "\n",
    "    model = MLP_2d().double()\n",
    "    model = model.to(device)\n",
    "\n",
    "    optimizer = torch.optim.Adam(model.parameters(), lr=0.001)\n",
    "\n",
    "    mean_train_losses = []\n",
    "    epochs = 10\n",
    "    num_minibatch = 100\n",
    "\n",
    "    for epoch in range(epochs):\n",
    "\n",
    "        model.train()\n",
    "        train_losses = []\n",
    "\n",
    "        for i in range(num_minibatch):\n",
    "\n",
    "            optimizer.zero_grad()\n",
    "\n",
    "            #forward for x \n",
    "            x_outputs = model(torch.tensor(next(p_dist)).to(device))\n",
    "            #forward for y \n",
    "            y_outputs = model(torch.tensor(next(q_dist)).to(device))\n",
    "\n",
    "            loss = -loss_JS(x_outputs, y_outputs)\n",
    "\n",
    "            loss.backward()\n",
    "            \n",
    "            optimizer.step()\n",
    "\n",
    "            train_losses.append(loss.item())\n",
    "\n",
    "        mean_train_losses.append(np.mean(train_losses))\n",
    "\n",
    "        #early stop\n",
    "        if (mean_train_losses[-1]<-10): \n",
    "            break\n",
    "\n",
    "#         print('epoch : {}, train loss : {:.4f}'\\\n",
    "#              .format(epoch+1, np.mean(train_losses)))\n",
    "        \n",
    "    #forward for x \n",
    "    x_outputs = model(torch.tensor(next(p_dist)).to(device))\n",
    "    #forward for y \n",
    "    y_outputs = model(torch.tensor(next(q_dist)).to(device))\n",
    "\n",
    "    loss = loss_JS(x_outputs, y_outputs)\n",
    "    \n",
    "    return loss"
   ]
  },
  {
   "cell_type": "code",
   "execution_count": 70,
   "metadata": {},
   "outputs": [],
   "source": [
    "def get_WD(p_dist,q_dist):\n",
    "    #PROBLEM 1.2\n",
    "    device = torch.device(\"cuda:0\" if torch.cuda.is_available() else \"cpu\")\n",
    "\n",
    "    model = MLP_wd_2d().double()\n",
    "    model = model.to(device)\n",
    "\n",
    "    optimizer = torch.optim.Adam(model.parameters(), lr=0.001)\n",
    "\n",
    "    mean_train_losses = []\n",
    "    epochs = 10\n",
    "    num_minibatch = 100\n",
    "\n",
    "    for epoch in range(epochs):\n",
    "\n",
    "        model.train()\n",
    "        train_losses = []\n",
    "\n",
    "        for i in range(num_minibatch):\n",
    "\n",
    "            optimizer.zero_grad()\n",
    "            x = torch.tensor(next(p_dist)).to(device)\n",
    "            y= torch.tensor(next(q_dist)).to(device)\n",
    "            #forward for x (normal 0 std 1)\n",
    "            x_outputs = model(x)\n",
    "            #forward for y (normal 10 std 1)\n",
    "            y_outputs = model(y)\n",
    "\n",
    "            a = torch.tensor(next(a_dist)).to(device)\n",
    "            z = Variable(a*x +(1-a)*y,requires_grad=True)\n",
    "\n",
    "            z_outputs= model(z)\n",
    "            \n",
    "            fake = Variable(torch.Tensor(x.shape[0], 1).fill_(1.0), requires_grad=False).double().to(device)\n",
    "           \n",
    "            # Get gradient w.r.t. to input\n",
    "            grad_z = autograd.grad(\n",
    "                outputs=z_outputs,\n",
    "                inputs=z,\n",
    "                grad_outputs=fake,\n",
    "                create_graph=True,\n",
    "                retain_graph=True,\n",
    "                only_inputs=True,\n",
    "            )[0]\n",
    "            \n",
    "            grad_z = grad_z.view(grad_z.size(0), -1)\n",
    "\n",
    "            loss = -loss_WD(x_outputs, y_outputs, grad_z,10)\n",
    "            loss.backward()\n",
    "\n",
    "            optimizer.step()\n",
    "\n",
    "            train_losses.append(loss.item())\n",
    "\n",
    "        mean_train_losses.append(np.mean(train_losses))\n",
    "\n",
    "    \n",
    "    x = torch.tensor(next(p_dist)).to(device)\n",
    "    y= torch.tensor(next(q_dist)).to(device)\n",
    "    #forward for x \n",
    "    x_outputs = model(x).to(device)\n",
    "    #forward for y \n",
    "    y_outputs = model(y).to(device)\n",
    "    \n",
    "    a = torch.tensor(next(a_dist)).to(device)\n",
    "    z = Variable(a*x +(1-a)*y,requires_grad=True)\n",
    "\n",
    "    z_outputs= model(z)\n",
    "    \n",
    "    fake = Variable(torch.Tensor(x.shape[0], 1).fill_(1.0), requires_grad=False).double().to(device)\n",
    "    # Get gradient w.r.t. interpolates\n",
    "    grad_z = autograd.grad(\n",
    "        outputs=z_outputs,\n",
    "        inputs=z,\n",
    "        grad_outputs=fake,\n",
    "        create_graph=True,\n",
    "        retain_graph=True,\n",
    "        only_inputs=True,\n",
    "    )[0]\n",
    "    grad_z = grad_z.view(grad_z.size(0), -1)\n",
    "    \n",
    "#     z_outputs_mean = z_outputs.mean()\n",
    "#     z_outputs_mean.backward(retain_graph=True)\n",
    "\n",
    "#     grad_z = z.grad\n",
    "#     optimizer.zero_grad()\n",
    "\n",
    "    loss = loss_WD(x_outputs, y_outputs, grad_z,10)\n",
    "    \n",
    "    return loss"
   ]
  },
  {
   "cell_type": "code",
   "execution_count": 68,
   "metadata": {},
   "outputs": [
    {
     "name": "stdout",
     "output_type": "stream",
     "text": [
      "-1.0\n",
      "tensor(0.6931, device='cuda:0', dtype=torch.float64, grad_fn=<AddBackward0>)\n",
      "-0.9\n",
      "tensor(0.6931, device='cuda:0', dtype=torch.float64, grad_fn=<AddBackward0>)\n",
      "-0.8\n",
      "tensor(0.6931, device='cuda:0', dtype=torch.float64, grad_fn=<AddBackward0>)\n",
      "-0.7\n",
      "tensor(0.6931, device='cuda:0', dtype=torch.float64, grad_fn=<AddBackward0>)\n",
      "-0.6\n",
      "tensor(0.6931, device='cuda:0', dtype=torch.float64, grad_fn=<AddBackward0>)\n",
      "-0.5\n",
      "tensor(0.6930, device='cuda:0', dtype=torch.float64, grad_fn=<AddBackward0>)\n",
      "-0.3999999999999999\n",
      "tensor(0.6930, device='cuda:0', dtype=torch.float64, grad_fn=<AddBackward0>)\n",
      "-0.29999999999999993\n",
      "tensor(0.6931, device='cuda:0', dtype=torch.float64, grad_fn=<AddBackward0>)\n",
      "-0.19999999999999996\n",
      "tensor(0.6931, device='cuda:0', dtype=torch.float64, grad_fn=<AddBackward0>)\n",
      "-0.09999999999999998\n",
      "tensor(0.6930, device='cuda:0', dtype=torch.float64, grad_fn=<AddBackward0>)\n",
      "0.0\n",
      "tensor(-3.4315e-05, device='cuda:0', dtype=torch.float64,\n",
      "       grad_fn=<AddBackward0>)\n",
      "0.10000000000000009\n",
      "tensor(0.6930, device='cuda:0', dtype=torch.float64, grad_fn=<AddBackward0>)\n",
      "0.20000000000000018\n",
      "tensor(0.6930, device='cuda:0', dtype=torch.float64, grad_fn=<AddBackward0>)\n",
      "0.30000000000000004\n",
      "tensor(0.6931, device='cuda:0', dtype=torch.float64, grad_fn=<AddBackward0>)\n",
      "0.40000000000000013\n",
      "tensor(0.6930, device='cuda:0', dtype=torch.float64, grad_fn=<AddBackward0>)\n",
      "0.5\n",
      "tensor(0.6930, device='cuda:0', dtype=torch.float64, grad_fn=<AddBackward0>)\n",
      "0.6000000000000001\n",
      "tensor(0.6931, device='cuda:0', dtype=torch.float64, grad_fn=<AddBackward0>)\n",
      "0.7000000000000002\n",
      "tensor(0.6931, device='cuda:0', dtype=torch.float64, grad_fn=<AddBackward0>)\n",
      "0.8\n",
      "tensor(0.6931, device='cuda:0', dtype=torch.float64, grad_fn=<AddBackward0>)\n",
      "0.9000000000000001\n",
      "tensor(0.6931, device='cuda:0', dtype=torch.float64, grad_fn=<AddBackward0>)\n",
      "1.0\n",
      "tensor(0.6931, device='cuda:0', dtype=torch.float64, grad_fn=<AddBackward0>)\n"
     ]
    }
   ],
   "source": [
    "JS_list = []\n",
    "theta_list = np.linspace(-1, 1, num=21)\n",
    "\n",
    "for theta in theta_list:\n",
    "    print(theta)\n",
    "    p_dist = distribution1(0, batch_size=512)\n",
    "    q_dist = distribution1(theta, batch_size=512)\n",
    "    JS_list.append(get_JS(p_dist,q_dist))\n",
    "    print(JS_list[-1])\n",
    "    "
   ]
  },
  {
   "cell_type": "code",
   "execution_count": 69,
   "metadata": {},
   "outputs": [
    {
     "data": {
      "image/png": "[encoded data removed]",
      "text/plain": [
       "<Figure size 432x288 with 1 Axes>"
      ]
     },
     "metadata": {
      "needs_background": "light"
     },
     "output_type": "display_data"
    }
   ],
   "source": [
    "plt.plot(theta_list,JS_list)\n",
    "plt.savefig(\"problem1_3_js.png\",dpi=300)"
   ]
  },
  {
   "cell_type": "code",
   "execution_count": 71,
   "metadata": {},
   "outputs": [
    {
     "name": "stdout",
     "output_type": "stream",
     "text": [
      "-1.0\n",
      "tensor(0.0442, device='cuda:0', dtype=torch.float64, grad_fn=<SubBackward0>)\n",
      "-0.9\n",
      "tensor(0.0398, device='cuda:0', dtype=torch.float64, grad_fn=<SubBackward0>)\n",
      "-0.8\n",
      "tensor(0.0354, device='cuda:0', dtype=torch.float64, grad_fn=<SubBackward0>)\n",
      "-0.7\n",
      "tensor(0.0309, device='cuda:0', dtype=torch.float64, grad_fn=<SubBackward0>)\n",
      "-0.6\n",
      "tensor(0.0265, device='cuda:0', dtype=torch.float64, grad_fn=<SubBackward0>)\n",
      "-0.5\n",
      "tensor(0.0219, device='cuda:0', dtype=torch.float64, grad_fn=<SubBackward0>)\n",
      "-0.3999999999999999\n",
      "tensor(0.0177, device='cuda:0', dtype=torch.float64, grad_fn=<SubBackward0>)\n",
      "-0.29999999999999993\n",
      "tensor(0.0130, device='cuda:0', dtype=torch.float64, grad_fn=<SubBackward0>)\n",
      "-0.19999999999999996\n",
      "tensor(0.0088, device='cuda:0', dtype=torch.float64, grad_fn=<SubBackward0>)\n",
      "-0.09999999999999998\n",
      "tensor(0.0044, device='cuda:0', dtype=torch.float64, grad_fn=<SubBackward0>)\n",
      "0.0\n",
      "tensor(0.0001, device='cuda:0', dtype=torch.float64, grad_fn=<SubBackward0>)\n",
      "0.10000000000000009\n",
      "tensor(0.0044, device='cuda:0', dtype=torch.float64, grad_fn=<SubBackward0>)\n",
      "0.20000000000000018\n",
      "tensor(0.0089, device='cuda:0', dtype=torch.float64, grad_fn=<SubBackward0>)\n",
      "0.30000000000000004\n",
      "tensor(0.0132, device='cuda:0', dtype=torch.float64, grad_fn=<SubBackward0>)\n",
      "0.40000000000000013\n",
      "tensor(0.0177, device='cuda:0', dtype=torch.float64, grad_fn=<SubBackward0>)\n",
      "0.5\n",
      "tensor(0.0221, device='cuda:0', dtype=torch.float64, grad_fn=<SubBackward0>)\n",
      "0.6000000000000001\n",
      "tensor(0.0265, device='cuda:0', dtype=torch.float64, grad_fn=<SubBackward0>)\n",
      "0.7000000000000002\n",
      "tensor(0.0308, device='cuda:0', dtype=torch.float64, grad_fn=<SubBackward0>)\n",
      "0.8\n",
      "tensor(0.0354, device='cuda:0', dtype=torch.float64, grad_fn=<SubBackward0>)\n",
      "0.9000000000000001\n",
      "tensor(0.0392, device='cuda:0', dtype=torch.float64, grad_fn=<SubBackward0>)\n",
      "1.0\n",
      "tensor(0.0443, device='cuda:0', dtype=torch.float64, grad_fn=<SubBackward0>)\n"
     ]
    }
   ],
   "source": [
    "WD_list = []\n",
    "theta_list = np.linspace(-1, 1, num=21)\n",
    "\n",
    "for theta in theta_list:\n",
    "    print(theta)\n",
    "    p_dist = distribution1(0, batch_size=512)\n",
    "    q_dist = distribution1(theta, batch_size=512)\n",
    "    WD_list.append(get_WD(p_dist,q_dist))\n",
    "    print(WD_list[-1])"
   ]
  },
  {
   "cell_type": "code",
   "execution_count": 72,
   "metadata": {},
   "outputs": [
    {
     "data": {
      "image/png": "[encoded data removed]",
      "text/plain": [
       "<Figure size 432x288 with 1 Axes>"
      ]
     },
     "metadata": {
      "needs_background": "light"
     },
     "output_type": "display_data"
    }
   ],
   "source": [
    "plt.plot(theta_list,WD_list)\n",
    "plt.savefig(\"problem1_3_wd.png\",dpi=300)"
   ]
  },
  {
   "cell_type": "markdown",
   "metadata": {},
   "source": [
    "## Problem 1.4"
   ]
  },
  {
   "cell_type": "code",
   "execution_count": 73,
   "metadata": {},
   "outputs": [],
   "source": [
    "def loss_density(D_x,D_y):\n",
    "    return(D_x.log().mean()) + ((1-D_y).log().mean())"
   ]
  },
  {
   "cell_type": "code",
   "execution_count": 78,
   "metadata": {},
   "outputs": [
    {
     "name": "stdout",
     "output_type": "stream",
     "text": [
      "epoch : 1, train loss : 1.2780\n",
      "epoch : 2, train loss : 1.2134\n",
      "epoch : 3, train loss : 1.2149\n",
      "epoch : 4, train loss : 1.2156\n",
      "epoch : 5, train loss : 1.2131\n",
      "epoch : 6, train loss : 1.2117\n",
      "epoch : 7, train loss : 1.2108\n",
      "epoch : 8, train loss : 1.2108\n",
      "epoch : 9, train loss : 1.2083\n",
      "epoch : 10, train loss : 1.2079\n",
      "epoch : 11, train loss : 1.2136\n",
      "epoch : 12, train loss : 1.2117\n",
      "epoch : 13, train loss : 1.2130\n",
      "epoch : 14, train loss : 1.2110\n",
      "epoch : 15, train loss : 1.2105\n"
     ]
    }
   ],
   "source": [
    "#PROBLEM 1.4\n",
    "f0 = distribution3()\n",
    "f1 = distribution4(batch_size=512)\n",
    "\n",
    "device = torch.device(\"cuda:0\" if torch.cuda.is_available() else \"cpu\")\n",
    "\n",
    "model = MLP().double()\n",
    "model = model.to(device)\n",
    "\n",
    "# optimizer = torch.optim.SGD(model.parameters(), lr=0.001)\n",
    "optimizer = torch.optim.Adam(model.parameters(), lr=0.001)\n",
    "\n",
    "mean_train_losses = []\n",
    "epochs = 15\n",
    "num_minibatch = 100\n",
    "\n",
    "for epoch in range(epochs):\n",
    "    \n",
    "    model.train()\n",
    "    train_losses = []\n",
    "        \n",
    "    for i in range(num_minibatch):\n",
    "        \n",
    "        optimizer.zero_grad()\n",
    "        \n",
    "        #forward for x (normal 0 std 1)\n",
    "        x_outputs = model(torch.tensor(next(f1)).to(device))\n",
    "        #forward for y (normal 10 std 1)\n",
    "        y_outputs = model(torch.tensor(next(f0)).to(device))\n",
    "        \n",
    "        loss = -loss_density(x_outputs, y_outputs)\n",
    "        \n",
    "        loss.backward()\n",
    "\n",
    "        optimizer.step()\n",
    "        \n",
    "        train_losses.append(loss.item())\n",
    "            \n",
    "    mean_train_losses.append(np.mean(train_losses))\n",
    "    \n",
    "    print('epoch : {}, train loss : {:.4f}'\\\n",
    "         .format(epoch+1, np.mean(train_losses)))"
   ]
  },
  {
   "cell_type": "code",
   "execution_count": 79,
   "metadata": {},
   "outputs": [],
   "source": [
    "#test\n",
    "xx_tensor= torch.tensor(np.linspace(-5,5,1000)).to(device)\n",
    "d_xx = np.array(model.forward(xx_tensor).detach().cpu()).reshape(-1)\n",
    "xx = np.linspace(-5,5,1000)"
   ]
  },
  {
   "cell_type": "code",
   "execution_count": 80,
   "metadata": {},
   "outputs": [
    {
     "data": {
      "image/png": "[encoded data removed]",
      "text/plain": [
       "<Figure size 576x288 with 2 Axes>"
      ]
     },
     "metadata": {
      "needs_background": "light"
     },
     "output_type": "display_data"
    }
   ],
   "source": [
    "\n",
    "from __future__ import print_function\n",
    "import numpy as np\n",
    "import torch \n",
    "import matplotlib.pyplot as plt\n",
    "\n",
    "\n",
    "############### plotting things\n",
    "############### (1) plot the output of your trained discriminator \n",
    "############### (2) plot the estimated density contrasted with the true density\n",
    "\n",
    "f = lambda x: torch.tanh(x*2+1) + x*0.75\n",
    "d = lambda x: (1-torch.tanh(x*2+1)**2)*2+0.75\n",
    "N = lambda x: np.exp(-x**2/2.)/((2*np.pi)**0.5)\n",
    "r = d_xx # evaluate xx using your discriminator; replace xx with the output\n",
    "plt.figure(figsize=(8,4))\n",
    "plt.subplot(1,2,1)\n",
    "plt.plot(xx,r)\n",
    "plt.title(r'$D(x)$')\n",
    "\n",
    "estimate = (N(xx)*d_xx)/(1-d_xx) # estimate the density of distribution4 (on xx) using the discriminator; \n",
    "                                # replace \"np.ones_like(xx)*0.\" with your estimate\n",
    "plt.subplot(1,2,2)\n",
    "plt.plot(xx,estimate)\n",
    "plt.plot(f(torch.from_numpy(xx)).numpy(), d(torch.from_numpy(xx)).numpy()**(-1)*N(xx))\n",
    "plt.legend(['Estimated','True'])\n",
    "plt.title('Estimated vs True')\n",
    "plt.savefig(\"problem_1_4\")\n",
    "\n"
   ]
  },
  {
   "cell_type": "code",
   "execution_count": null,
   "metadata": {},
   "outputs": [],
   "source": []
  }
 ],
 "metadata": {
  "kernelspec": {
   "display_name": "Python 3",
   "language": "python",
   "name": "python3"
  },
  "language_info": {
   "codemirror_mode": {
    "name": "ipython",
    "version": 3
   },
   "file_extension": ".py",
   "mimetype": "text/x-python",
   "name": "python",
   "nbconvert_exporter": "python",
   "pygments_lexer": "ipython3",
   "version": "3.6.8"
  }
 },
 "nbformat": 4,
 "nbformat_minor": 2
}
